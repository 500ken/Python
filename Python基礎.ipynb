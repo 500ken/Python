{
 "cells": [
  {
   "cell_type": "markdown",
   "metadata": {},
   "source": [
    "# Python基礎"
   ]
  },
  {
   "cell_type": "markdown",
   "metadata": {},
   "source": [
    "# 1.基本語法"
   ]
  },
  {
   "cell_type": "markdown",
   "metadata": {},
   "source": [
    "## 1-1變數"
   ]
  },
  {
   "cell_type": "markdown",
   "metadata": {},
   "source": [
    "先從設定變數看看，不用先宣告類型。"
   ]
  },
  {
   "cell_type": "code",
   "execution_count": 15,
   "metadata": {
    "collapsed": true
   },
   "outputs": [],
   "source": [
    "a=9\n",
    "b=3.3\n",
    "str='abc'"
   ]
  },
  {
   "cell_type": "markdown",
   "metadata": {},
   "source": [
    "試著用print列印出a,b,str的類型。其中sep=分隔字元，end=結束字元"
   ]
  },
  {
   "cell_type": "code",
   "execution_count": 16,
   "metadata": {
    "scrolled": false
   },
   "outputs": [
    {
     "name": "stdout",
     "output_type": "stream",
     "text": [
      "<class 'int'>,<class 'float'>,<class 'str'>."
     ]
    }
   ],
   "source": [
    "print(type(a),type(b),type(str),sep=\",\",end='.')"
   ]
  },
  {
   "cell_type": "markdown",
   "metadata": {},
   "source": [
    "接著試一下簡單的運算+,-,*,/,//(代表取商不取餘數)"
   ]
  },
  {
   "cell_type": "code",
   "execution_count": 17,
   "metadata": {},
   "outputs": [
    {
     "name": "stdout",
     "output_type": "stream",
     "text": [
      "12.3,5.7,29.7,2.7272727272727275,2.0\n"
     ]
    }
   ],
   "source": [
    "print(a+b,a-b,a*b,a/b,a//b,sep=\",\")"
   ]
  },
  {
   "cell_type": "code",
   "execution_count": 18,
   "metadata": {},
   "outputs": [
    {
     "name": "stdout",
     "output_type": "stream",
     "text": [
      "12.3,<class 'float'>\n"
     ]
    }
   ],
   "source": [
    "#Python也會自行判別計算後的變數類型\n",
    "print(a+b,type(a+b),sep=\",\")"
   ]
  },
  {
   "cell_type": "code",
   "execution_count": 19,
   "metadata": {},
   "outputs": [
    {
     "ename": "TypeError",
     "evalue": "unsupported operand type(s) for +: 'int' and 'str'",
     "output_type": "error",
     "traceback": [
      "\u001b[1;31m---------------------------------------------------------------------------\u001b[0m",
      "\u001b[1;31mTypeError\u001b[0m                                 Traceback (most recent call last)",
      "\u001b[1;32m<ipython-input-19-389dd7a147ce>\u001b[0m in \u001b[0;36m<module>\u001b[1;34m()\u001b[0m\n\u001b[0;32m      1\u001b[0m \u001b[1;31m#Python也會自行判別計算後的變數類型\u001b[0m\u001b[1;33m\u001b[0m\u001b[1;33m\u001b[0m\u001b[0m\n\u001b[1;32m----> 2\u001b[1;33m \u001b[0ma\u001b[0m\u001b[1;33m+\u001b[0m\u001b[0mstr\u001b[0m\u001b[1;33m\u001b[0m\u001b[0m\n\u001b[0m",
      "\u001b[1;31mTypeError\u001b[0m: unsupported operand type(s) for +: 'int' and 'str'"
     ]
    }
   ],
   "source": [
    "#不同類型變數互相計算時，則會出現錯誤。\n",
    "a+str"
   ]
  },
  {
   "cell_type": "markdown",
   "metadata": {},
   "source": [
    "## 1-2.運算子"
   ]
  },
  {
   "cell_type": "code",
   "execution_count": 23,
   "metadata": {
    "scrolled": true
   },
   "outputs": [
    {
     "name": "stdout",
     "output_type": "stream",
     "text": [
      "請輸入金額:1234\n",
      "1234\n"
     ]
    }
   ],
   "source": [
    "#Python可以透過input讓使用者輸入資料，特別注意輸入的資料會預設為string字串，\n",
    "#需要做強制轉型才能做數值使用\n",
    "money=int(input(\"請輸入金額:\"))\n",
    "print(money)"
   ]
  },
  {
   "cell_type": "markdown",
   "metadata": {},
   "source": [
    "算術運算子\n",
    "除了剛剛提到的簡單運算+,-,*,/,//\n",
    "還有%(取餘數),**(次方)可以使用\n",
    "另外字串式可以相加的。"
   ]
  },
  {
   "cell_type": "code",
   "execution_count": 26,
   "metadata": {},
   "outputs": [
    {
     "name": "stdout",
     "output_type": "stream",
     "text": [
      "abcd\n"
     ]
    }
   ],
   "source": [
    "str1='ab'\n",
    "str2='cd'\n",
    "print(str1+str2)"
   ]
  },
  {
   "cell_type": "markdown",
   "metadata": {},
   "source": [
    "關係運算子\n",
    "常搭配判斷使用\n",
    "像是==,!=,>,<,>=,<=等等"
   ]
  },
  {
   "cell_type": "markdown",
   "metadata": {},
   "source": [
    "邏輯運算子\n",
    "not,and,or"
   ]
  },
  {
   "cell_type": "markdown",
   "metadata": {},
   "source": [
    "關係與邏輯運算子都會回傳True,False，常常用在判別式中，下面舉個例子"
   ]
  },
  {
   "cell_type": "code",
   "execution_count": 32,
   "metadata": {},
   "outputs": [
    {
     "data": {
      "text/plain": [
       "(False, True, True, True, True)"
      ]
     },
     "execution_count": 32,
     "metadata": {},
     "output_type": "execute_result"
    }
   ],
   "source": [
    "6==8,4!=9,(8>3)and(7>5),not(5>6),(9<3)or(8>7)"
   ]
  },
  {
   "cell_type": "markdown",
   "metadata": {},
   "source": [
    "## 1-3.判斷式"
   ]
  },
  {
   "cell_type": "markdown",
   "metadata": {},
   "source": [
    "像其他程式語言一樣，Python也有判斷式，舉例來說當條件式一發生時則OOXX，若條件式二時則OOOO，其他則XXXX\n",
    "if(條件式一):\n",
    "    則OOXX(前方用tab鍵區隔)\n",
    "elif(條件式二):(前方不空格代表前面判斷式結束)\n",
    "    則OOOO\n",
    "else:\n",
    "    則XXXX\n",
    "下一段程式(不空格代表前面判斷式結束)"
   ]
  },
  {
   "cell_type": "code",
   "execution_count": 36,
   "metadata": {},
   "outputs": [
    {
     "name": "stdout",
     "output_type": "stream",
     "text": [
      "請輸入本次成績4\n",
      "不行\n"
     ]
    }
   ],
   "source": [
    "#用個成績判斷來當作練習，輸入分數，>90分為優，80~89分為佳，\n",
    "#70~79分為可，60~69為差，60分以下不行\n",
    "score=int(input('請輸入本次成績'))\n",
    "if(score>=90):\n",
    "    print('優')\n",
    "elif(score>=80):\n",
    "    print('佳')\n",
    "elif score>=70:\n",
    "    print('可')\n",
    "elif score>=60:\n",
    "    print('差')\n",
    "else:\n",
    "    print('不行')"
   ]
  },
  {
   "cell_type": "code",
   "execution_count": 40,
   "metadata": {},
   "outputs": [
    {
     "name": "stdout",
     "output_type": "stream",
     "text": [
      "請輸入本次成績94\n",
      "優\n"
     ]
    }
   ],
   "source": [
    "#多加一個新條件練習巢狀判斷式，進階一下，若分數超過95分輸出太棒了!\n",
    "#用個成績判斷來當作練習，輸入分數，>90分為優，80~89分為佳，\n",
    "#70~79分為可，60~69為差，60分以下不行\n",
    "score=int(input('請輸入本次成績'))\n",
    "if(score>=90):\n",
    "    if(score>=95):\n",
    "        print('太棒了')\n",
    "    else:\n",
    "        print('優')\n",
    "elif(score>=80):\n",
    "    print('佳')\n",
    "elif score>=70:\n",
    "    print('可')\n",
    "elif score>=60:\n",
    "    print('差')\n",
    "else:\n",
    "    print('不行')"
   ]
  },
  {
   "cell_type": "markdown",
   "metadata": {},
   "source": [
    "# 2迴圈(for,while)、函式(def)"
   ]
  },
  {
   "cell_type": "markdown",
   "metadata": {},
   "source": [
    "## 2-1.list"
   ]
  },
  {
   "cell_type": "markdown",
   "metadata": {},
   "source": [
    "在開始使用迴圈之前，先來看看List\n",
    "List有點像Array，可以一維、二維...，\n",
    "不過又有些不一樣，可以保存不同類型的變數"
   ]
  },
  {
   "cell_type": "code",
   "execution_count": 42,
   "metadata": {},
   "outputs": [
    {
     "name": "stdout",
     "output_type": "stream",
     "text": [
      "1 qqq\n"
     ]
    }
   ],
   "source": [
    "list1=[1,2,3]\n",
    "list2=['abc','qqq','ggg']\n",
    "list3=[1,'app']\n",
    "#也可以用list[索引值]取出list中的變數(索引值從0開始)\n",
    "print(list1[0],list2[1])"
   ]
  },
  {
   "cell_type": "code",
   "execution_count": 61,
   "metadata": {},
   "outputs": [
    {
     "name": "stdout",
     "output_type": "stream",
     "text": [
      "1,app\n"
     ]
    }
   ],
   "source": [
    "#特別介紹一下，list3包括數字和字串，可以用以下指令試試看 % d或s或f表示整數、字串、浮點數，中間可以加上數字\n",
    "#代表固定列印出幾個字元如%3d,%6S,%8.3f\n",
    "print(\"%d,%s\" % (list3[0],list3[1]))"
   ]
  },
  {
   "cell_type": "markdown",
   "metadata": {},
   "source": [
    "## 2-2.range()"
   ]
  },
  {
   "cell_type": "markdown",
   "metadata": {},
   "source": [
    "接著來看看range()的用法"
   ]
  },
  {
   "cell_type": "code",
   "execution_count": 64,
   "metadata": {},
   "outputs": [
    {
     "name": "stdout",
     "output_type": "stream",
     "text": [
      "range(0, 6)\n",
      "range(1, 6)\n",
      "range(1, 6, 3)\n"
     ]
    }
   ],
   "source": [
    "list1=range(6) #產生範圍從0~(6-1)的list1\n",
    "list2=range(1,6)#產生範圍從1~(6-1)的list2\n",
    "list3=range(1,6,3)#產生範圍從1~6，間隔3的list3"
   ]
  },
  {
   "cell_type": "markdown",
   "metadata": {},
   "source": [
    "## 2-3.for迴圈"
   ]
  },
  {
   "cell_type": "code",
   "execution_count": 73,
   "metadata": {
    "scrolled": true
   },
   "outputs": [
    {
     "name": "stdout",
     "output_type": "stream",
     "text": [
      "1\n",
      "2\n",
      "3\n",
      "4\n",
      "5\n"
     ]
    }
   ],
   "source": [
    "#如果想將list1,2,3中的數字列出來，就要使用到迴圈for了: \n",
    "#for 變數 in range:\n",
    "#    程式碼\n",
    "\n",
    "for d in list2:\n",
    "    print(d)"
   ]
  },
  {
   "cell_type": "code",
   "execution_count": 79,
   "metadata": {},
   "outputs": [
    {
     "name": "stdout",
     "output_type": "stream",
     "text": [
      "1 * 1 =  11 * 2 =  21 * 3 =  31 * 4 =  41 * 5 =  51 * 6 =  61 * 7 =  71 * 8 =  81 * 9 =  9\n",
      "2 * 1 =  22 * 2 =  42 * 3 =  62 * 4 =  82 * 5 =  102 * 6 =  122 * 7 =  142 * 8 =  162 * 9 =  18\n",
      "3 * 1 =  33 * 2 =  63 * 3 =  93 * 4 =  123 * 5 =  153 * 6 =  183 * 7 =  213 * 8 =  243 * 9 =  27\n",
      "4 * 1 =  44 * 2 =  84 * 3 =  124 * 4 =  164 * 5 =  204 * 6 =  244 * 7 =  284 * 8 =  324 * 9 =  36\n",
      "5 * 1 =  55 * 2 =  105 * 3 =  155 * 4 =  205 * 5 =  255 * 6 =  305 * 7 =  355 * 8 =  405 * 9 =  45\n",
      "6 * 1 =  66 * 2 =  126 * 3 =  186 * 4 =  246 * 5 =  306 * 6 =  366 * 7 =  426 * 8 =  486 * 9 =  54\n",
      "7 * 1 =  77 * 2 =  147 * 3 =  217 * 4 =  287 * 5 =  357 * 6 =  427 * 7 =  497 * 8 =  567 * 9 =  63\n",
      "8 * 1 =  88 * 2 =  168 * 3 =  248 * 4 =  328 * 5 =  408 * 6 =  488 * 7 =  568 * 8 =  648 * 9 =  72\n",
      "9 * 1 =  99 * 2 =  189 * 3 =  279 * 4 =  369 * 5 =  459 * 6 =  549 * 7 =  639 * 8 =  729 * 9 =  81\n"
     ]
    }
   ],
   "source": [
    "#迴圈一樣可以做巢狀使用，用個最常見的例子九九乘法表來試試看\n",
    "for i in range(1,10):\n",
    "    for j in range(1,10):\n",
    "        print(i,\"*\",j,\"=\",i*j,end=\"\")\n",
    "    print()#印完9次換行"
   ]
  },
  {
   "cell_type": "code",
   "execution_count": 85,
   "metadata": {},
   "outputs": [
    {
     "name": "stdout",
     "output_type": "stream",
     "text": [
      "1*1= 1 1*2= 2 1*3= 3 1*4= 4 1*5= 5 1*6= 6 1*7= 7 1*8= 8 1*9= 9 \n",
      "2*1= 2 2*2= 4 2*3= 6 2*4= 8 2*5=10 2*6=12 2*7=14 2*8=16 2*9=18 \n",
      "3*1= 3 3*2= 6 3*3= 9 3*4=12 3*5=15 3*6=18 3*7=21 3*8=24 3*9=27 \n",
      "4*1= 4 4*2= 8 4*3=12 4*4=16 4*5=20 4*6=24 4*7=28 4*8=32 4*9=36 \n",
      "5*1= 5 5*2=10 5*3=15 5*4=20 5*5=25 5*6=30 5*7=35 5*8=40 5*9=45 \n",
      "6*1= 6 6*2=12 6*3=18 6*4=24 6*5=30 6*6=36 6*7=42 6*8=48 6*9=54 \n",
      "7*1= 7 7*2=14 7*3=21 7*4=28 7*5=35 7*6=42 7*7=49 7*8=56 7*9=63 \n",
      "8*1= 8 8*2=16 8*3=24 8*4=32 8*5=40 8*6=48 8*7=56 8*8=64 8*9=72 \n",
      "9*1= 9 9*2=18 9*3=27 9*4=36 9*5=45 9*6=54 9*7=63 9*8=72 9*9=81 \n"
     ]
    }
   ],
   "source": [
    "#透過%美化一下\n",
    "for i in range(1,10):\n",
    "    for j in range(1,10):\n",
    "        print(\"%d*%d=%2d\" %(i,j,i*j),end=\" \")\n",
    "    print()#印完9次換行"
   ]
  },
  {
   "cell_type": "code",
   "execution_count": 89,
   "metadata": {},
   "outputs": [
    {
     "name": "stdout",
     "output_type": "stream",
     "text": [
      "1,2,3,4,5,\n",
      "1,2,3,4,5,7,8,9,"
     ]
    }
   ],
   "source": [
    "#試著用用看continue和break，continue跳過6繼續執行迴圈，break則會跳出迴圈\n",
    "for i in range(1,10):\n",
    "    if(i==6):\n",
    "        break\n",
    "    print(i,end=\",\")\n",
    "print()\n",
    "for j in range(1,10):\n",
    "    if(j==6):\n",
    "        continue\n",
    "    print(j,end=\",\")"
   ]
  },
  {
   "cell_type": "code",
   "execution_count": 5,
   "metadata": {
    "scrolled": true
   },
   "outputs": [
    {
     "name": "stdout",
     "output_type": "stream",
     "text": [
      "請輸入大於1的整數:101\n",
      "101 是質數\n"
     ]
    }
   ],
   "source": [
    "#以上這些都了解以後，用一個某間企業程式面試很難忘的題目來試試看目前所學\n",
    "#請使用者輸入大於1任意整數，並判斷是否為質數\n",
    "#提示:以某數\"逐一\"除以\"2到\"某數-1\"，若有任何一次能夠整除，則此樹不是質數，若全部無法整除，則為餘數\n",
    "num=int(input(\"請輸入大於1的整數:\"))\n",
    "for i in range(2,num):\n",
    "    if(num%i==0):\n",
    "        print(\"%d 不是質數\" %(num))\n",
    "        break    \n",
    "else:\n",
    "    print(\"%d 是質數\" %(num))"
   ]
  },
  {
   "cell_type": "markdown",
   "metadata": {},
   "source": [
    "## 2-4.while迴圈"
   ]
  },
  {
   "cell_type": "markdown",
   "metadata": {},
   "source": [
    "for迴圈通常用在次數可得知的情況下，若要在次數不可得知的情況做迴圈或是判斷，則可以使用while\n",
    "另外也需要注意判斷中止的條件會不會成立，不然會造成無窮迴圈\n",
    "while(判斷式):\n",
    "    執行程式碼"
   ]
  },
  {
   "cell_type": "code",
   "execution_count": 29,
   "metadata": {},
   "outputs": [
    {
     "name": "stdout",
     "output_type": "stream",
     "text": [
      "0\n",
      "1\n",
      "2\n",
      "3\n",
      "4\n"
     ]
    }
   ],
   "source": [
    "i=n=0\n",
    "while(i<5):\n",
    "    print(i)\n",
    "    i+=1"
   ]
  },
  {
   "cell_type": "markdown",
   "metadata": {},
   "source": [
    "## 2-5.Tuple"
   ]
  },
  {
   "cell_type": "markdown",
   "metadata": {},
   "source": [
    "tuple跟list相同，但tuple無法針對其中元素做變更，另外list使用[]，tuple使用()\n",
    "也因為不能改變內容，當有資料要保存時可以使用"
   ]
  },
  {
   "cell_type": "code",
   "execution_count": 33,
   "metadata": {
    "collapsed": true
   },
   "outputs": [],
   "source": [
    "list1=[1,2,3]\n",
    "tuple1=(4,5,6)"
   ]
  },
  {
   "cell_type": "code",
   "execution_count": 36,
   "metadata": {},
   "outputs": [
    {
     "data": {
      "text/plain": [
       "[1, 4, 3]"
      ]
     },
     "execution_count": 36,
     "metadata": {},
     "output_type": "execute_result"
    }
   ],
   "source": [
    "list1[1]=4\n",
    "list1\n",
    "# tuple1[1]=3 出現error"
   ]
  },
  {
   "cell_type": "code",
   "execution_count": 38,
   "metadata": {},
   "outputs": [
    {
     "data": {
      "text/plain": [
       "[4, 5, 6, 7]"
      ]
     },
     "execution_count": 38,
     "metadata": {},
     "output_type": "execute_result"
    }
   ],
   "source": [
    "#tuple跟list間也可以互相轉換\n",
    "tuple1=(4,5,6)\n",
    "list1=list(tuple1)\n",
    "list1.append(7)\n",
    "list1"
   ]
  },
  {
   "cell_type": "code",
   "execution_count": 39,
   "metadata": {},
   "outputs": [
    {
     "data": {
      "text/plain": [
       "(1, 2, 3, 4)"
      ]
     },
     "execution_count": 39,
     "metadata": {},
     "output_type": "execute_result"
    }
   ],
   "source": [
    "list1=[1,2,3,4]\n",
    "tuple1=tuple(list1)\n",
    "tuple1"
   ]
  },
  {
   "cell_type": "code",
   "execution_count": 46,
   "metadata": {},
   "outputs": [
    {
     "data": {
      "text/plain": [
       "[1, 2, 3, 4, 1, 2, 3, 4, 1, 2, 3, 4, 1, 2, 3, 4, 1, 2, 3, 4]"
      ]
     },
     "execution_count": 46,
     "metadata": {},
     "output_type": "execute_result"
    }
   ],
   "source": [
    "#list有很多進階操作的指令\n",
    "list1=[1, 2, 3, 4]\n",
    "list1*5 #將list重複"
   ]
  },
  {
   "cell_type": "code",
   "execution_count": 47,
   "metadata": {},
   "outputs": [
    {
     "data": {
      "text/plain": [
       "[2, 3]"
      ]
     },
     "execution_count": 47,
     "metadata": {},
     "output_type": "execute_result"
    }
   ],
   "source": [
    "list1[1:3] #取出list中的元素"
   ]
  },
  {
   "cell_type": "code",
   "execution_count": 50,
   "metadata": {},
   "outputs": [
    {
     "name": "stdout",
     "output_type": "stream",
     "text": [
      "4 4 1\n"
     ]
    }
   ],
   "source": [
    "print(len(list1),max(list1),min(list1))  #長度，最大，最小值"
   ]
  },
  {
   "cell_type": "code",
   "execution_count": 54,
   "metadata": {},
   "outputs": [
    {
     "data": {
      "text/plain": [
       "[1, 2, 3, 4, [5, 6, 7]]"
      ]
     },
     "execution_count": 54,
     "metadata": {},
     "output_type": "execute_result"
    }
   ],
   "source": [
    "#append使用時，若指定其他list加入，則會將list整筆作為元素加入list中\n",
    "list1=[1, 2, 3, 4]\n",
    "a=[5,6,7]\n",
    "list1.append(a)\n",
    "list1"
   ]
  },
  {
   "cell_type": "code",
   "execution_count": 55,
   "metadata": {},
   "outputs": [
    {
     "data": {
      "text/plain": [
       "[1, 2, 3, 4, 5, 6, 7]"
      ]
     },
     "execution_count": 55,
     "metadata": {},
     "output_type": "execute_result"
    }
   ],
   "source": [
    "#extend使用時，若指定其他list加入，則會將list拆開作為元素加入list中\n",
    "list1=[1, 2, 3, 4]\n",
    "a=[5,6,7]\n",
    "list1.extend(a)\n",
    "list1"
   ]
  },
  {
   "cell_type": "markdown",
   "metadata": {},
   "source": [
    "## 2-6.Dict字典"
   ]
  },
  {
   "cell_type": "markdown",
   "metadata": {},
   "source": [
    "在list中，每個元素都有索引值(0~n-1)，字典dict2的結構也是，不過字典可以自行指定索引值(或稱為key鍵)，像是\n",
    "dict1={索引值(key鍵):值}"
   ]
  },
  {
   "cell_type": "code",
   "execution_count": 122,
   "metadata": {},
   "outputs": [
    {
     "name": "stdout",
     "output_type": "stream",
     "text": [
      "a\n"
     ]
    }
   ],
   "source": [
    "dict1={1:'a',2:'bb',3:'ccc'}\n",
    "print(dict1[1])"
   ]
  },
  {
   "cell_type": "code",
   "execution_count": 64,
   "metadata": {
    "scrolled": true
   },
   "outputs": [
    {
     "data": {
      "text/plain": [
       "1"
      ]
     },
     "execution_count": 64,
     "metadata": {},
     "output_type": "execute_result"
    }
   ],
   "source": [
    "#也可以不用數字做索引\n",
    "dict1={'a':1,'b':2,'c':3}\n",
    "dict1['a']"
   ]
  },
  {
   "cell_type": "code",
   "execution_count": 152,
   "metadata": {},
   "outputs": [
    {
     "name": "stdout",
     "output_type": "stream",
     "text": [
      "{'a': 8, 'b': 2, 'c': 3, 'd': 4}\n"
     ]
    }
   ],
   "source": [
    "#key是不能重複的，若有重複的key，則前面一樣key的值會被取代\n",
    "dict1={'a':1,'b':2,'c':3,'d':4}\n",
    "dict1['a']=8\n",
    "print(dict1)"
   ]
  },
  {
   "cell_type": "code",
   "execution_count": 156,
   "metadata": {},
   "outputs": [
    {
     "name": "stdout",
     "output_type": "stream",
     "text": [
      "{'a': 1, 'b': 2, 'c': 3, 'd': 4, 'e': 9}\n"
     ]
    }
   ],
   "source": [
    "#如果想要新增元素，可以設定新的key以及對應的值\n",
    "dict1={'a':1,'b':2,'c':3,'d':4}\n",
    "dict1['e']=9\n",
    "print(dict1)"
   ]
  },
  {
   "cell_type": "code",
   "execution_count": 159,
   "metadata": {},
   "outputs": [
    {
     "name": "stdout",
     "output_type": "stream",
     "text": [
      "{'b': 2, 'c': 3, 'd': 4}\n"
     ]
    }
   ],
   "source": [
    "#除了新增修改，也可以透過刪除對字典做變化\n",
    "#刪除指定key的值\n",
    "dict1={'a':1,'b':2,'c':3,'d':4}\n",
    "del dict1['a']\n",
    "print(dict1)"
   ]
  },
  {
   "cell_type": "code",
   "execution_count": 161,
   "metadata": {},
   "outputs": [
    {
     "name": "stdout",
     "output_type": "stream",
     "text": [
      "{}\n"
     ]
    }
   ],
   "source": [
    "#清空字典\n",
    "dict1={'a':1,'b':2,'c':3,'d':4}\n",
    "dict1.clear()\n",
    "print(dict1)"
   ]
  },
  {
   "cell_type": "code",
   "execution_count": 163,
   "metadata": {
    "collapsed": true
   },
   "outputs": [],
   "source": [
    "#刪除字典\n",
    "dict1={'a':1,'b':2,'c':3,'d':4}\n",
    "del dict1\n",
    "# print(dict1) error 因為dict1被刪除了"
   ]
  },
  {
   "cell_type": "code",
   "execution_count": 174,
   "metadata": {},
   "outputs": [
    {
     "name": "stdout",
     "output_type": "stream",
     "text": [
      "apple要40元 ('apple', 40)\n",
      "banana要60元 ('banana', 60)\n",
      "egg要100元 ('egg', 100)\n",
      "orange要30元 ('orange', 30)\n",
      "grape要100元 ('grape', 100)\n"
     ]
    }
   ],
   "source": [
    "#來試試看幾個字典操作\n",
    "dict1={'apple':40,'banana':60,'egg':100}\n",
    "dict1['orange']=30\n",
    "dict1['grape']=100\n",
    "dlong=len(list(dict1))\n",
    "ditems=list(dict1.items()) #.items()可以取出key和值的組合\n",
    "dkeys=list(dict1.keys())   #.keys()可以取出key組合\n",
    "dvalue=list(dict1.values())#.values()可以取出值組合\n",
    "#運用list轉型，一般用dict.xx()取出的資浪會轉變為dict.xx的型態\n",
    "for i in range(dlong):\n",
    "    print('%s要%d元' %(dkeys[i],dvalue[i]),ditems[i])"
   ]
  },
  {
   "cell_type": "code",
   "execution_count": 182,
   "metadata": {},
   "outputs": [
    {
     "name": "stdout",
     "output_type": "stream",
     "text": [
      "40 None 5000 {'apple': 40, 'banana': 60, 'egg': 100}\n"
     ]
    }
   ],
   "source": [
    "#字典中還有get及setdefault兩種操作方式\n",
    "#dict.get(key[,預設值])可以用來取得key對應的值，若是key不存在，則回傳預設值，無預設值會回傳none\n",
    "dict1={'apple':40,'banana':60,'egg':100}\n",
    "n=dict1.get('apple')\n",
    "g=dict1.get('grape')      #會取得預設值none，但是不會增加到dict1中\n",
    "pig=dict1.get('pig',5000) #會取得預設值，但是不會增加到dict1中\n",
    "print(n,g,pig,dict1)"
   ]
  },
  {
   "cell_type": "code",
   "execution_count": 183,
   "metadata": {},
   "outputs": [
    {
     "name": "stdout",
     "output_type": "stream",
     "text": [
      "40 None 5000 {'apple': 40, 'banana': 60, 'egg': 100, 'grape': None, 'pig': 5000}\n"
     ]
    }
   ],
   "source": [
    "#setdefault和get類似\n",
    "#dict.setdefault(key[,預設值])可以用來取得key對應的值，若是key不存在，則回傳預設值，無預設值會回傳none\n",
    "dict1={'apple':40,'banana':60,'egg':100}\n",
    "n=dict1.setdefault('apple')\n",
    "g=dict1.setdefault('grape') #會取得預設值為none並增加到dict1中\n",
    "pig=dict1.setdefault('pig',5000) #會取得預設值並增加到dict1中\n",
    "print(n,g,pig,dict1)"
   ]
  },
  {
   "cell_type": "markdown",
   "metadata": {},
   "source": [
    "## 2-7.def函式"
   ]
  },
  {
   "cell_type": "markdown",
   "metadata": {},
   "source": [
    "如同其他程式語言，Python也可以創作自訂函式，基本語法:\n",
    "def 函式名([參數1,參數2,...]):\n",
    "    執行程式\n",
    "    [return 回傳1,回傳2,...]\n",
    "多筆參數或回傳值用,分隔\n",
    "宣告完後就可以在程式碼中呼叫函式來用了。"
   ]
  },
  {
   "cell_type": "code",
   "execution_count": 184,
   "metadata": {},
   "outputs": [
    {
     "name": "stdout",
     "output_type": "stream",
     "text": [
      "YA!~\n"
     ]
    }
   ],
   "source": [
    "def re():\n",
    "    print(\"YA!~\")\n",
    "re()"
   ]
  },
  {
   "cell_type": "code",
   "execution_count": 188,
   "metadata": {
    "scrolled": true
   },
   "outputs": [
    {
     "name": "stdout",
     "output_type": "stream",
     "text": [
      "請輸入數字13\n",
      "請輸入數字26\n"
     ]
    },
    {
     "data": {
      "text/plain": [
       "9"
      ]
     },
     "execution_count": 188,
     "metadata": {},
     "output_type": "execute_result"
    }
   ],
   "source": [
    "def add(a,b):\n",
    "    sum=a+b\n",
    "    return sum\n",
    "input1=int(input(\"請輸入數字1\"))\n",
    "input2=int(input(\"請輸入數字2\"))\n",
    "add(input1,input2)"
   ]
  },
  {
   "cell_type": "code",
   "execution_count": 3,
   "metadata": {},
   "outputs": [
    {
     "name": "stdout",
     "output_type": "stream",
     "text": [
      "請輸入數字14\n"
     ]
    },
    {
     "data": {
      "text/plain": [
       "10"
      ]
     },
     "execution_count": 3,
     "metadata": {},
     "output_type": "execute_result"
    }
   ],
   "source": [
    "#定義函式時也可以預設值\n",
    "def add(a,b=6):\n",
    "    tot=a+b\n",
    "    return tot\n",
    "input1=int(input(\"請輸入數字1\"))\n",
    "add(input1)"
   ]
  },
  {
   "cell_type": "code",
   "execution_count": 194,
   "metadata": {},
   "outputs": [
    {
     "data": {
      "text/plain": [
       "13"
      ]
     },
     "execution_count": 194,
     "metadata": {},
     "output_type": "execute_result"
    }
   ],
   "source": [
    "#使用*可以建立不定數目參數函式\n",
    "def add(*a):\n",
    "    tot=0\n",
    "    for i in a:\n",
    "        tot+=i        \n",
    "    return tot\n",
    "add(1,2,3,7)"
   ]
  },
  {
   "cell_type": "markdown",
   "metadata": {},
   "source": [
    "Python也有內建很多函式，例如求長度的len()、最大值max()等等"
   ]
  },
  {
   "cell_type": "code",
   "execution_count": 8,
   "metadata": {},
   "outputs": [
    {
     "name": "stdout",
     "output_type": "stream",
     "text": [
      "Please type an integer: 6\n",
      "1*2*3*5*"
     ]
    }
   ],
   "source": [
    "#最後用個學長傳授的費式數列做個小結\n",
    "def factorial(n):\n",
    "    if(n==0 or n==1):\n",
    "        return int(n)\n",
    "    else:\n",
    "        return factorial(n-1) + factorial(n-2)\n",
    "number = int(input('Please type an integer: '))\n",
    "for n in range(2,number):\n",
    "    print (factorial(n),end='*')"
   ]
  },
  {
   "cell_type": "markdown",
   "metadata": {},
   "source": [
    "## 2-8.import"
   ]
  },
  {
   "cell_type": "markdown",
   "metadata": {},
   "source": [
    "import可以用來匯入套件，並使用套件中的函式\n",
    "例如numpy"
   ]
  },
  {
   "cell_type": "code",
   "execution_count": 6,
   "metadata": {},
   "outputs": [
    {
     "data": {
      "text/plain": [
       "2.0"
      ]
     },
     "execution_count": 6,
     "metadata": {},
     "output_type": "execute_result"
    }
   ],
   "source": [
    "import numpy as np #import後可以用as取別名\n",
    "np.sqrt(4)  #取平方根"
   ]
  },
  {
   "cell_type": "code",
   "execution_count": 7,
   "metadata": {
    "collapsed": true
   },
   "outputs": [],
   "source": [
    "#透過from的方式import則可以不用宣告套件名稱直接使用函式\n",
    "from random import*\n",
    "seed()   #取代random.seed()"
   ]
  },
  {
   "cell_type": "markdown",
   "metadata": {},
   "source": [
    "# END"
   ]
  }
 ],
 "metadata": {
  "kernelspec": {
   "display_name": "Python 3",
   "language": "python",
   "name": "python3"
  },
  "language_info": {
   "codemirror_mode": {
    "name": "ipython",
    "version": 3
   },
   "file_extension": ".py",
   "mimetype": "text/x-python",
   "name": "python",
   "nbconvert_exporter": "python",
   "pygments_lexer": "ipython3",
   "version": "3.6.1"
  }
 },
 "nbformat": 4,
 "nbformat_minor": 2
}
