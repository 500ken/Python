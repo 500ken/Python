{
 "cells": [
  {
   "cell_type": "code",
   "execution_count": 2,
   "metadata": {},
   "outputs": [
    {
     "data": {
      "image/png": "[encoded data removed]",
      "text/plain": [
       "<matplotlib.figure.Figure at 0x2e0650c58d0>"
      ]
     },
     "metadata": {},
     "output_type": "display_data"
    }
   ],
   "source": [
    "import numpy as np\n",
    "import matplotlib.pyplot as pt\n",
    "x=np.arange(0,360)\n",
    "y=np.sin(x*np.pi/180.0)\n",
    "pt.plot(x,y)\n",
    "pt.show()"
   ]
  },
  {
   "cell_type": "code",
   "execution_count": 3,
   "metadata": {},
   "outputs": [
    {
     "name": "stdout",
     "output_type": "stream",
     "text": [
      "<!DOCTYPE html>\n",
      "<html id=\"Stencil\" lang=\"zh-Hant-TW\" class=\"StencilRoot  my3columns  l-out Pos-r https fp fp-default ltr desktop Desktop bkt900\">\n",
      "<head>\n",
      "    \n",
      "    <title>Yahoo奇摩</title><meta http-equiv=\"x-dns-prefetch-control\" content=\"on\"><link rel=\"dns-prefetch\" href=\"//s.yimg.com\"><link rel=\"preconnect\" href=\"//s.yimg.com\"><link rel=\"dns-prefetch\" href=\"//y.analytics.yahoo.com\"><link rel=\"preconnect\" href=\"//y.analytics.yahoo.com\"><link rel=\"dns-prefetch\" href=\"//geo.query.yahoo.com\"><link rel=\"preconnect\" href=\"//geo.query.yahoo.com\"><link rel=\"dns-prefetch\" href=\"//csc.beap.bc.yahoo.com\"><link rel=\"preconnect\" href=\"//csc.beap.bc.yahoo.com\"><link rel=\"dns-prefetch\" href=\"//geo.yahoo.com\"><link rel=\"preconnect\" href=\"//geo.yahoo.com\"><link rel=\"dns-prefetch\" href=\"//comet.yahoo.com\"><link rel=\"preconnect\" href=\"//comet.yahoo.com\"><link rel=\"dns-prefetch\" href=\"//video-api.yql.yahoo.com\"><link rel=\"preconnect\" href=\"//video-api.yql.yahoo.com\"><link rel=\"dns-prefetch\" href=\"//yrtas.btrll.com\"><link rel=\"preconnect\" href=\"//yrtas.btrll.com\"><link rel=\"dns-prefetch\" href=\"//shim.btrll.com\"><link rel=\"preconnect\" href=\"//shim.btrll.com\">    <meta http-equiv=\"Content-Type\" content=\"text/html; charset=utf-8\">\n",
      "    \n",
      "    <meta http-equiv=\"X-UA-Compatible\" content=\"chrome=1\">\n",
      "    <meta name=\"description\" content=\"新聞、電子信箱和搜尋功能只是起點。每天發掘更多精彩內容。打造專屬自我的 Yahoo奇摩體驗。\">\n",
      "    <meta name=\"keywords\" content=\"yahoo, yahoo奇摩, yahoo奇摩首頁, yahoo首頁, yahoo搜尋, yahoo 信箱, yahoo 即時通訊, 新聞, 股市, 運動, 娛樂, 拍賣, 購物中心, 超級商城\">\n",
      "    <meta property=\"og:title\" content=\"Yahoo奇摩\" />\n"
     ]
    }
   ],
   "source": [
    "import requests\n",
    "url='https://tw.yahoo.com/'\n",
    "html=requests.get(url).text.splitlines()\n",
    "for i in range(0,10):\n",
    "    print(html[i])"
   ]
  },
  {
   "cell_type": "code",
   "execution_count": 10,
   "metadata": {},
   "outputs": [
    {
     "name": "stdout",
     "output_type": "stream",
     "text": [
      "yahoomode\n",
      "yahooapp\n",
      "yahooCfiller\n",
      "yahoosearchtheme\n",
      "yahooCfiller\n",
      "yahoodotcom\n",
      "yahoodotcom\n"
     ]
    }
   ],
   "source": [
    "import requests, re\n",
    "regex=r\"(yahoo+[a-zA-Z0-9]+)\"\n",
    "url='https://tw.yahoo.com/'\n",
    "html=requests.get(url).text\n",
    "yahoos=re.findall(regex,html)\n",
    "for yahoo in yahoos:\n",
    "    print(yahoo)"
   ]
  },
  {
   "cell_type": "code",
   "execution_count": 25,
   "metadata": {},
   "outputs": [
    {
     "name": "stdout",
     "output_type": "stream",
     "text": [
      "2X1= 2    3X1= 3    4X1= 4    5X1= 5    6X1= 6    \n",
      "2X2= 4    3X2= 6    4X2= 8    5X2=10    6X2=12    \n",
      "2X3= 6    3X3= 9    4X3=12    5X3=15    6X3=18    \n",
      "2X4= 8    3X4=12    4X4=16    5X4=20    6X4=24    \n",
      "2X5=10    3X5=15    4X5=20    5X5=25    6X5=30    \n",
      "2X6=12    3X6=18    4X6=24    5X6=30    6X6=36    \n",
      "2X7=14    3X7=21    4X7=28    5X7=35    6X7=42    \n",
      "2X8=16    3X8=24    4X8=32    5X8=40    6X8=48    \n",
      "2X9=18    3X9=27    4X9=36    5X9=45    6X9=54    \n",
      "\n",
      "5X1= 5    6X1= 6    7X1= 7    8X1= 8    9X1= 9    \n",
      "5X2=10    6X2=12    7X2=14    8X2=16    9X2=18    \n",
      "5X3=15    6X3=18    7X3=21    8X3=24    9X3=27    \n",
      "5X4=20    6X4=24    7X4=28    8X4=32    9X4=36    \n",
      "5X5=25    6X5=30    7X5=35    8X5=40    9X5=45    \n",
      "5X6=30    6X6=36    7X6=42    8X6=48    9X6=54    \n",
      "5X7=35    6X7=42    7X7=49    8X7=56    9X7=63    \n",
      "5X8=40    6X8=48    7X8=56    8X8=64    9X8=72    \n",
      "5X9=45    6X9=54    7X9=63    8X9=72    9X9=81    \n",
      "\n"
     ]
    }
   ],
   "source": [
    "for i in range(2,7,3):\n",
    "    for j in range(1,10):\n",
    "        for k in range(i,i+5):\n",
    "            print(\"{}X{}={:>2}    \".format(k,j,k*j),end=\"\")\n",
    "        print()\n",
    "    print()"
   ]
  },
  {
   "cell_type": "code",
   "execution_count": null,
   "metadata": {
    "collapsed": true
   },
   "outputs": [],
   "source": []
  }
 ],
 "metadata": {
  "kernelspec": {
   "display_name": "Python 3",
   "language": "python",
   "name": "python3"
  },
  "language_info": {
   "codemirror_mode": {
    "name": "ipython",
    "version": 3
   },
   "file_extension": ".py",
   "mimetype": "text/x-python",
   "name": "python",
   "nbconvert_exporter": "python",
   "pygments_lexer": "ipython3",
   "version": "3.6.1"
  }
 },
 "nbformat": 4,
 "nbformat_minor": 2
}
